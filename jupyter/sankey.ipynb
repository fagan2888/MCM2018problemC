{
 "cells": [
  {
   "cell_type": "markdown",
   "metadata": {},
   "source": [
    "# Plotly - Sankey Diagrams"
   ]
  },
  {
   "cell_type": "code",
   "execution_count": 10,
   "metadata": {},
   "outputs": [],
   "source": [
    "import json, urllib\n",
    "import plotly\n",
    "plotly.tools.set_credentials_file(username='james20141606', api_key='L3zPyULntDsWb4XC4fGS')\n",
    "import plotly.plotly as py\n",
    "from plotly.graph_objs import Scatter, Layout"
   ]
  },
  {
   "cell_type": "code",
   "execution_count": null,
   "metadata": {},
   "outputs": [],
   "source": [
    "url = 'https://raw.githubusercontent.com/plotly/plotly.js/master/test/image/mocks/sankey_energy.json'\n",
    "response = urllib.urlopen(url)\n",
    "energy_data = json.loads(response.read())\n",
    "data_label = ['Solar','Nuclear','Hydro','Wind','Geothermal','Natural Gas','Coal',\n",
    "              'Biomass','Petroleum','Electricity Generation','Residential',\n",
    "              'Commercial','Industrial','Transportation','Energy loss','Energy services']\n",
    "data_color = energy_data['data'][0]['node']['color'][:]\n",
    "data_source = []\n",
    "data_target =[]\n",
    "data_value =[]"
   ]
  },
  {
   "cell_type": "code",
   "execution_count": 46,
   "metadata": {
    "scrolled": false
   },
   "outputs": [
    {
     "data": {
      "text/html": [
       "<iframe id=\"igraph\" scrolling=\"no\" style=\"border:none;\" seamless=\"seamless\" src=\"https://plot.ly/~james20141606/7.embed\" height=\"500px\" width=\"100%\"></iframe>"
      ],
      "text/plain": [
       "<plotly.tools.PlotlyDisplay object>"
      ]
     },
     "execution_count": 46,
     "metadata": {},
     "output_type": "execute_result"
    }
   ],
   "source": [
    "data_trace = dict(\n",
    "    type='sankey',\n",
    "    width = 1118,\n",
    "    height = 2500,\n",
    "    domain = dict(\n",
    "      x =  [0,1],\n",
    "      y =  [0,1]\n",
    "    ),\n",
    "    orientation = \"h\",\n",
    "    valueformat = \".0f\",\n",
    "    valuesuffix = \"TWh\",\n",
    "    node = dict(\n",
    "      pad = 10,\n",
    "      thickness = 15,\n",
    "      line = dict(\n",
    "        color = \"black\",\n",
    "        width = 0.5\n",
    "      ),\n",
    "      label =  data_label,\n",
    "      color =  data_color\n",
    "    ),\n",
    "    link = dict(\n",
    "      source =  data_source,\n",
    "      target =  data_target,\n",
    "      value =  data_value,\n",
    "  ))\n",
    "\n",
    "layout =  dict(\n",
    "    title = \"Energy profile of Arizona in 2009\",\n",
    "    #California (CA), Arizona (AZ), New Mexico (NM), and Texas (TX)\n",
    "    font = dict(\n",
    "      size = 10\n",
    "    ),\n",
    "    height=500,\n",
    ")\n",
    "\n",
    "fig = dict(data=[data_trace], layout=layout)\n",
    "py.iplot(fig, validate=False)"
   ]
  },
  {
   "cell_type": "code",
   "execution_count": null,
   "metadata": {},
   "outputs": [],
   "source": []
  },
  {
   "cell_type": "code",
   "execution_count": null,
   "metadata": {},
   "outputs": [],
   "source": []
  }
 ],
 "metadata": {
  "kernelspec": {
   "display_name": "Python 2",
   "language": "python",
   "name": "python2"
  },
  "language_info": {
   "codemirror_mode": {
    "name": "ipython",
    "version": 2
   },
   "file_extension": ".py",
   "mimetype": "text/x-python",
   "name": "python",
   "nbconvert_exporter": "python",
   "pygments_lexer": "ipython2",
   "version": "2.7.14"
  }
 },
 "nbformat": 4,
 "nbformat_minor": 2
}
